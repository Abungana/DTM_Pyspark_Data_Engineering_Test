{
  "nbformat": 4,
  "nbformat_minor": 0,
  "metadata": {
    "colab": {
      "private_outputs": true,
      "provenance": []
    },
    "kernelspec": {
      "name": "python3",
      "display_name": "Python 3"
    },
    "language_info": {
      "name": "python"
    }
  },
  "cells": [
    {
      "cell_type": "code",
      "execution_count": null,
      "metadata": {
        "id": "Nt4oNjxODYXg"
      },
      "outputs": [],
      "source": [
        "url = 'https://dtmapi.iom.int/api/idpAdmin2Data/GetAdmin2Datav2'"
      ]
    },
    {
      "cell_type": "code",
      "source": [
        "url"
      ],
      "metadata": {
        "id": "WCVMJdhlDg_L"
      },
      "execution_count": null,
      "outputs": []
    },
    {
      "cell_type": "code",
      "source": [
        "# 0. Install & configure Java, Spark and helper libs\n",
        "!apt-get update -qq && apt-get install -y openjdk-8-jdk-headless -qq\n",
        "!pip install pyspark requests --quiet"
      ],
      "metadata": {
        "id": "eDwdx-jED8ht"
      },
      "execution_count": null,
      "outputs": []
    },
    {
      "cell_type": "code",
      "source": [
        "import os, base64\n",
        "from pyspark.sql import SparkSession\n",
        "from pyspark.sql.functions import col, to_date, sum as spark_sum\n",
        "import requests"
      ],
      "metadata": {
        "id": "p9e95DwkEIIb"
      },
      "execution_count": null,
      "outputs": []
    },
    {
      "cell_type": "code",
      "source": [
        "# 1. Define Medallion directories\n",
        "base_dir   = \"/content/medallion\"\n",
        "bronze_dir = os.path.join(base_dir, \"bronze\")\n",
        "silver_dir = os.path.join(base_dir, \"silver\")\n",
        "gold_dir   = os.path.join(base_dir, \"gold\")\n",
        "for d in (bronze_dir, silver_dir, gold_dir):\n",
        "    os.makedirs(d, exist_ok=True)"
      ],
      "metadata": {
        "id": "16fckwBsFBXs"
      },
      "execution_count": null,
      "outputs": []
    },
    {
      "cell_type": "code",
      "source": [
        "# 2. Start SparkSession\n",
        "os.environ[\"JAVA_HOME\"] = \"/usr/lib/jvm/java-8-openjdk-amd64\"\n",
        "spark = (\n",
        "    SparkSession.builder\n",
        "        .appName(\"DTM_IDP_Medallion\")\n",
        "        .getOrCreate()\n",
        ")"
      ],
      "metadata": {
        "id": "RDvOQlkCFF1a"
      },
      "execution_count": null,
      "outputs": []
    },
    {
      "cell_type": "code",
      "source": [
        "# —— BRONZE LAYER: Raw JSON Ingestion with Basic Auth —— #\n",
        "\n",
        "url = \"https://dtmapi.iom.int/api/idpAdmin2Data/GetAdmin2Datav2\""
      ],
      "metadata": {
        "id": "FivwrheGFVNg"
      },
      "execution_count": null,
      "outputs": []
    },
    {
      "cell_type": "code",
      "source": [
        "# Fetch ORG_ID / API_KEY from env vars (or hard-code for testing)\n",
        "org_id  = os.getenv(\"DTM_API_ORG_ID\", \"<YOUR_ORG_ID>\")\n",
        "api_key = os.getenv(\"DTM_API_KEY\", \"<YOUR_API_KEY>\")"
      ],
      "metadata": {
        "id": "VBdMylWHFZ0S"
      },
      "execution_count": null,
      "outputs": []
    },
    {
      "cell_type": "code",
      "source": [
        "# Build Basic Auth header\n",
        "cred_bytes = f\"{org_id}:{api_key}\".encode()\n",
        "b64_creds  = base64.b64encode(cred_bytes).decode()\n",
        "headers    = {\"Authorization\": f\"Basic {b64_creds}\"}"
      ],
      "metadata": {
        "id": "CnCB4cI1FmGg"
      },
      "execution_count": null,
      "outputs": []
    },
    {
      "cell_type": "code",
      "source": [
        "resp = requests.get(url, headers=headers)\n",
        "resp.raise_for_status()   # will error out (403) if auth fails"
      ],
      "metadata": {
        "id": "QI9Txjj_Fvvr"
      },
      "execution_count": null,
      "outputs": []
    },
    {
      "cell_type": "code",
      "source": [
        "# Save the raw JSON to Bronze\n",
        "raw_path = os.path.join(bronze_dir, \"idp_admin2_raw.json\")\n",
        "with open(raw_path, \"w\") as f:\n",
        "    f.write(resp.text)\n",
        "\n",
        "# Read raw JSON into a Spark DataFrame\n",
        "bronze_df = spark.read.json(bronze_dir)\n",
        "print(\"🔸 Bronze schema:\")\n",
        "bronze_df.printSchema()\n",
        "print(\"🔸 Bronze sample rows:\")\n",
        "bronze_df.show(5, truncate=False)\n",
        "\n",
        "# —— SILVER LAYER: Clean & Flatten —— #\n",
        "silver_df = bronze_df.select(\n",
        "    col(\"admin0Name\"),\n",
        "    col(\"admin0Pcode\"),\n",
        "    col(\"admin1Name\"),\n",
        "    col(\"admin1Pcode\"),\n",
        "    col(\"admin2Name\"),\n",
        "    col(\"admin2Pcode\"),\n",
        "    col(\"numPresentIdpInd\"),\n",
        "    to_date(col(\"reportingDate\"), \"yyyy-MM-dd\").alias(\"reporting_date\"),\n",
        "    col(\"yearReportingDate\").alias(\"year\"),\n",
        "    col(\"monthReportingDate\").alias(\"month\"),\n",
        "    col(\"roundNumber\").alias(\"round\"),\n",
        "    col(\"assessmentType\")\n",
        ")\n",
        "\n",
        "silver_df.write.mode(\"overwrite\").parquet(silver_dir)\n",
        "print(\"🔸 Silver schema:\")\n",
        "silver_df.printSchema()\n",
        "print(\"🔸 Silver sample rows:\")\n",
        "silver_df.show(5, truncate=False)\n",
        "\n",
        "# —— GOLD LAYER: Aggregations & Business Logic —— #\n",
        "gold_df = (\n",
        "    spark.read.parquet(silver_dir)\n",
        "         .groupBy(\"admin1Name\", \"reporting_date\")\n",
        "         .agg(spark_sum(\"numPresentIdpInd\").alias(\"total_idp\"))\n",
        "         .orderBy(\"admin1Name\", \"reporting_date\")\n",
        ")\n",
        "\n",
        "gold_df.write.mode(\"overwrite\").parquet(gold_dir)\n",
        "print(\"🔸 Gold schema:\")\n",
        "gold_df.printSchema()\n",
        "print(\"🔸 Gold sample rows:\")\n",
        "gold_df.show(5, truncate=False)\n",
        "\n",
        "# 🎉 Now you have:\n",
        "#   • BRONZE raw JSON in   /content/medallion/bronze\n",
        "#   • SILVER parquet data in /content/medallion/silver\n",
        "#   • GOLD aggregates in    /content/medallion/gold"
      ],
      "metadata": {
        "id": "XoPKWoxbFwuu"
      },
      "execution_count": null,
      "outputs": []
    }
  ]
}